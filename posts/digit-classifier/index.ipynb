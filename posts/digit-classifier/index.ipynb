{
 "cells": [
  {
   "cell_type": "markdown",
   "id": "7cf354ea",
   "metadata": {},
   "source": [
    "---\n",
    "title: \"MNIST Digit Classifier\"\n",
    "author: \"Seongbin Park\"\n",
    "jupyter: \"python3\"\n",
    "categories: [ml, projects, kaggle-competition]\n",
    "format:\n",
    "  html:\n",
    "    toc: true\n",
    "page-layout: article\n",
    "description: How to build a (very) simple neural network for MNIST digit classification\n",
    "date: \"2022-08-05\"\n",
    "---"
   ]
  },
  {
   "cell_type": "markdown",
   "id": "8a7dcb3c",
   "metadata": {},
   "source": [
    "This post will cover how to classify handwritten digits of the MNIST dataset using a simple neural network. At the same time, I will be taking a stab at the [Kaggle Digit Recognizer](https://www.kaggle.com/competitions/digit-recognizer/overview) contest.\n",
    "\n",
    "Credits: I will be working off of chapter 4 of the [fast.ai](https://github.com/fastai/fastbook) book, which covers binary classification of 3's and 7's. Other resources are linked."
   ]
  },
  {
   "cell_type": "code",
   "execution_count": 1,
   "id": "fb0be789",
   "metadata": {},
   "outputs": [],
   "source": [
    "# |code-fold: true\n",
    "# |code-summary: required libraries\n",
    "\n",
    "from fastai.vision.all import *"
   ]
  },
  {
   "cell_type": "markdown",
   "id": "4f668777",
   "metadata": {},
   "source": [
    "## Dowloading the Data\n",
    "First, we will have to import the MNIST dataset itself. We can import it using the fast.ai library (`path = untar_data(URLs.MNIST)`), but I will download the dataset from [kaggle](https://www.kaggle.com/competitions/digit-recognizer/) instead.\n",
    "\n",
    "If you are following along and haven't set up the kaggle API yet, do so by following along the README of the official [repo](https://github.com/Kaggle/kaggle-api). You will need an account to do so. After everything is set up, we can run the following code block:"
   ]
  },
  {
   "cell_type": "code",
   "execution_count": 2,
   "id": "87936ceb",
   "metadata": {
    "scrolled": true
   },
   "outputs": [
    {
     "name": "stdout",
     "output_type": "stream",
     "text": [
      "Downloading digit-recognizer.zip to /home/jupyter/projects/digit-classifier\n",
      "  0%|                                               | 0.00/15.3M [00:00<?, ?B/s]\n",
      "100%|███████████████████████████████████████| 15.3M/15.3M [00:00<00:00, 161MB/s]\n"
     ]
    }
   ],
   "source": [
    "!kaggle competitions download -c digit-recognizer"
   ]
  },
  {
   "cell_type": "markdown",
   "id": "beff17f3",
   "metadata": {},
   "source": [
    "Note that in Jupyter notebooks, the exclamation mark ! is used to execute shell commands. The dataset should be downloaded in your project directory as a zip file. Run the following code block to extract the contents to a file named MNIST_dataset:"
   ]
  },
  {
   "cell_type": "code",
   "execution_count": 3,
   "id": "51779ab3",
   "metadata": {
    "scrolled": true
   },
   "outputs": [
    {
     "name": "stdout",
     "output_type": "stream",
     "text": [
      "Archive:  digit-recognizer.zip\n",
      "  inflating: MNIST_dataset/sample_submission.csv  \n",
      "  inflating: MNIST_dataset/test.csv  \n",
      "  inflating: MNIST_dataset/train.csv  \n"
     ]
    }
   ],
   "source": [
    "!unzip digit-recognizer.zip -d MNIST_dataset"
   ]
  },
  {
   "cell_type": "markdown",
   "id": "1c169646",
   "metadata": {},
   "source": [
    "Let's take a look at `test.csv` (the test set) and `train.csv` (the training set):"
   ]
  },
  {
   "cell_type": "code",
   "execution_count": 4,
   "id": "7a9f11c5",
   "metadata": {},
   "outputs": [],
   "source": [
    "ds_path = Path(\"./MNIST_dataset\")"
   ]
  },
  {
   "cell_type": "code",
   "execution_count": 5,
   "id": "91967166",
   "metadata": {},
   "outputs": [
    {
     "data": {
      "text/html": [
       "<div>\n",
       "<style scoped>\n",
       "    .dataframe tbody tr th:only-of-type {\n",
       "        vertical-align: middle;\n",
       "    }\n",
       "\n",
       "    .dataframe tbody tr th {\n",
       "        vertical-align: top;\n",
       "    }\n",
       "\n",
       "    .dataframe thead th {\n",
       "        text-align: right;\n",
       "    }\n",
       "</style>\n",
       "<table border=\"1\" class=\"dataframe\">\n",
       "  <thead>\n",
       "    <tr style=\"text-align: right;\">\n",
       "      <th></th>\n",
       "      <th>pixel0</th>\n",
       "      <th>pixel1</th>\n",
       "      <th>pixel2</th>\n",
       "      <th>pixel3</th>\n",
       "      <th>pixel4</th>\n",
       "      <th>pixel5</th>\n",
       "      <th>pixel6</th>\n",
       "      <th>pixel7</th>\n",
       "      <th>pixel8</th>\n",
       "      <th>pixel9</th>\n",
       "      <th>...</th>\n",
       "      <th>pixel774</th>\n",
       "      <th>pixel775</th>\n",
       "      <th>pixel776</th>\n",
       "      <th>pixel777</th>\n",
       "      <th>pixel778</th>\n",
       "      <th>pixel779</th>\n",
       "      <th>pixel780</th>\n",
       "      <th>pixel781</th>\n",
       "      <th>pixel782</th>\n",
       "      <th>pixel783</th>\n",
       "    </tr>\n",
       "  </thead>\n",
       "  <tbody>\n",
       "    <tr>\n",
       "      <th>0</th>\n",
       "      <td>0</td>\n",
       "      <td>0</td>\n",
       "      <td>0</td>\n",
       "      <td>0</td>\n",
       "      <td>0</td>\n",
       "      <td>0</td>\n",
       "      <td>0</td>\n",
       "      <td>0</td>\n",
       "      <td>0</td>\n",
       "      <td>0</td>\n",
       "      <td>...</td>\n",
       "      <td>0</td>\n",
       "      <td>0</td>\n",
       "      <td>0</td>\n",
       "      <td>0</td>\n",
       "      <td>0</td>\n",
       "      <td>0</td>\n",
       "      <td>0</td>\n",
       "      <td>0</td>\n",
       "      <td>0</td>\n",
       "      <td>0</td>\n",
       "    </tr>\n",
       "    <tr>\n",
       "      <th>1</th>\n",
       "      <td>0</td>\n",
       "      <td>0</td>\n",
       "      <td>0</td>\n",
       "      <td>0</td>\n",
       "      <td>0</td>\n",
       "      <td>0</td>\n",
       "      <td>0</td>\n",
       "      <td>0</td>\n",
       "      <td>0</td>\n",
       "      <td>0</td>\n",
       "      <td>...</td>\n",
       "      <td>0</td>\n",
       "      <td>0</td>\n",
       "      <td>0</td>\n",
       "      <td>0</td>\n",
       "      <td>0</td>\n",
       "      <td>0</td>\n",
       "      <td>0</td>\n",
       "      <td>0</td>\n",
       "      <td>0</td>\n",
       "      <td>0</td>\n",
       "    </tr>\n",
       "    <tr>\n",
       "      <th>2</th>\n",
       "      <td>0</td>\n",
       "      <td>0</td>\n",
       "      <td>0</td>\n",
       "      <td>0</td>\n",
       "      <td>0</td>\n",
       "      <td>0</td>\n",
       "      <td>0</td>\n",
       "      <td>0</td>\n",
       "      <td>0</td>\n",
       "      <td>0</td>\n",
       "      <td>...</td>\n",
       "      <td>0</td>\n",
       "      <td>0</td>\n",
       "      <td>0</td>\n",
       "      <td>0</td>\n",
       "      <td>0</td>\n",
       "      <td>0</td>\n",
       "      <td>0</td>\n",
       "      <td>0</td>\n",
       "      <td>0</td>\n",
       "      <td>0</td>\n",
       "    </tr>\n",
       "  </tbody>\n",
       "</table>\n",
       "<p>3 rows × 784 columns</p>\n",
       "</div>"
      ],
      "text/plain": [
       "   pixel0  pixel1  pixel2  pixel3  pixel4  pixel5  pixel6  pixel7  pixel8  \\\n",
       "0       0       0       0       0       0       0       0       0       0   \n",
       "1       0       0       0       0       0       0       0       0       0   \n",
       "2       0       0       0       0       0       0       0       0       0   \n",
       "\n",
       "   pixel9  ...  pixel774  pixel775  pixel776  pixel777  pixel778  pixel779  \\\n",
       "0       0  ...         0         0         0         0         0         0   \n",
       "1       0  ...         0         0         0         0         0         0   \n",
       "2       0  ...         0         0         0         0         0         0   \n",
       "\n",
       "   pixel780  pixel781  pixel782  pixel783  \n",
       "0         0         0         0         0  \n",
       "1         0         0         0         0  \n",
       "2         0         0         0         0  \n",
       "\n",
       "[3 rows x 784 columns]"
      ]
     },
     "execution_count": 5,
     "metadata": {},
     "output_type": "execute_result"
    }
   ],
   "source": [
    "# test.csv\n",
    "df_test = pd.read_csv(ds_path/\"test.csv\")\n",
    "df_test.head(3)"
   ]
  },
  {
   "cell_type": "code",
   "execution_count": 6,
   "id": "539f2a86",
   "metadata": {},
   "outputs": [
    {
     "data": {
      "text/html": [
       "<div>\n",
       "<style scoped>\n",
       "    .dataframe tbody tr th:only-of-type {\n",
       "        vertical-align: middle;\n",
       "    }\n",
       "\n",
       "    .dataframe tbody tr th {\n",
       "        vertical-align: top;\n",
       "    }\n",
       "\n",
       "    .dataframe thead th {\n",
       "        text-align: right;\n",
       "    }\n",
       "</style>\n",
       "<table border=\"1\" class=\"dataframe\">\n",
       "  <thead>\n",
       "    <tr style=\"text-align: right;\">\n",
       "      <th></th>\n",
       "      <th>label</th>\n",
       "      <th>pixel0</th>\n",
       "      <th>pixel1</th>\n",
       "      <th>pixel2</th>\n",
       "      <th>pixel3</th>\n",
       "      <th>pixel4</th>\n",
       "      <th>pixel5</th>\n",
       "      <th>pixel6</th>\n",
       "      <th>pixel7</th>\n",
       "      <th>pixel8</th>\n",
       "      <th>...</th>\n",
       "      <th>pixel774</th>\n",
       "      <th>pixel775</th>\n",
       "      <th>pixel776</th>\n",
       "      <th>pixel777</th>\n",
       "      <th>pixel778</th>\n",
       "      <th>pixel779</th>\n",
       "      <th>pixel780</th>\n",
       "      <th>pixel781</th>\n",
       "      <th>pixel782</th>\n",
       "      <th>pixel783</th>\n",
       "    </tr>\n",
       "  </thead>\n",
       "  <tbody>\n",
       "    <tr>\n",
       "      <th>0</th>\n",
       "      <td>1</td>\n",
       "      <td>0</td>\n",
       "      <td>0</td>\n",
       "      <td>0</td>\n",
       "      <td>0</td>\n",
       "      <td>0</td>\n",
       "      <td>0</td>\n",
       "      <td>0</td>\n",
       "      <td>0</td>\n",
       "      <td>0</td>\n",
       "      <td>...</td>\n",
       "      <td>0</td>\n",
       "      <td>0</td>\n",
       "      <td>0</td>\n",
       "      <td>0</td>\n",
       "      <td>0</td>\n",
       "      <td>0</td>\n",
       "      <td>0</td>\n",
       "      <td>0</td>\n",
       "      <td>0</td>\n",
       "      <td>0</td>\n",
       "    </tr>\n",
       "    <tr>\n",
       "      <th>1</th>\n",
       "      <td>0</td>\n",
       "      <td>0</td>\n",
       "      <td>0</td>\n",
       "      <td>0</td>\n",
       "      <td>0</td>\n",
       "      <td>0</td>\n",
       "      <td>0</td>\n",
       "      <td>0</td>\n",
       "      <td>0</td>\n",
       "      <td>0</td>\n",
       "      <td>...</td>\n",
       "      <td>0</td>\n",
       "      <td>0</td>\n",
       "      <td>0</td>\n",
       "      <td>0</td>\n",
       "      <td>0</td>\n",
       "      <td>0</td>\n",
       "      <td>0</td>\n",
       "      <td>0</td>\n",
       "      <td>0</td>\n",
       "      <td>0</td>\n",
       "    </tr>\n",
       "    <tr>\n",
       "      <th>2</th>\n",
       "      <td>1</td>\n",
       "      <td>0</td>\n",
       "      <td>0</td>\n",
       "      <td>0</td>\n",
       "      <td>0</td>\n",
       "      <td>0</td>\n",
       "      <td>0</td>\n",
       "      <td>0</td>\n",
       "      <td>0</td>\n",
       "      <td>0</td>\n",
       "      <td>...</td>\n",
       "      <td>0</td>\n",
       "      <td>0</td>\n",
       "      <td>0</td>\n",
       "      <td>0</td>\n",
       "      <td>0</td>\n",
       "      <td>0</td>\n",
       "      <td>0</td>\n",
       "      <td>0</td>\n",
       "      <td>0</td>\n",
       "      <td>0</td>\n",
       "    </tr>\n",
       "  </tbody>\n",
       "</table>\n",
       "<p>3 rows × 785 columns</p>\n",
       "</div>"
      ],
      "text/plain": [
       "   label  pixel0  pixel1  pixel2  pixel3  pixel4  pixel5  pixel6  pixel7  \\\n",
       "0      1       0       0       0       0       0       0       0       0   \n",
       "1      0       0       0       0       0       0       0       0       0   \n",
       "2      1       0       0       0       0       0       0       0       0   \n",
       "\n",
       "   pixel8  ...  pixel774  pixel775  pixel776  pixel777  pixel778  pixel779  \\\n",
       "0       0  ...         0         0         0         0         0         0   \n",
       "1       0  ...         0         0         0         0         0         0   \n",
       "2       0  ...         0         0         0         0         0         0   \n",
       "\n",
       "   pixel780  pixel781  pixel782  pixel783  \n",
       "0         0         0         0         0  \n",
       "1         0         0         0         0  \n",
       "2         0         0         0         0  \n",
       "\n",
       "[3 rows x 785 columns]"
      ]
     },
     "execution_count": 6,
     "metadata": {},
     "output_type": "execute_result"
    }
   ],
   "source": [
    "# train.csv\n",
    "df_train = pd.read_csv(ds_path/\"train.csv\")\n",
    "df_train.head(3)"
   ]
  },
  {
   "cell_type": "markdown",
   "id": "8500c721",
   "metadata": {},
   "source": [
    "Now that we downloaded the data, we need to shape it for training and validating.\n",
    "\n",
    "## Shaping the Data\n",
    "\n",
    "To train our model, we need to separate and normalize the independent (pixels) and dependent (label) variables. The labels will be represented using [one hot encoding](https://en.wikipedia.org/wiki/One-hot)."
   ]
  },
  {
   "cell_type": "code",
   "execution_count": 7,
   "id": "329e3566",
   "metadata": {},
   "outputs": [],
   "source": [
    "X_train = tensor(df_train.drop(labels = ['label'],axis = 1)) / 255.0"
   ]
  },
  {
   "cell_type": "code",
   "execution_count": 8,
   "id": "568f8696",
   "metadata": {},
   "outputs": [
    {
     "data": {
      "text/plain": [
       "(torch.Size([42000, 784]), torch.Size([42000, 10]))"
      ]
     },
     "execution_count": 8,
     "metadata": {},
     "output_type": "execute_result"
    }
   ],
   "source": [
    "y_train_numeric = df_train['label']\n",
    "\n",
    "rows = np.arange(y_train_numeric.size)\n",
    "y_train = tensor(np.zeros((y_train_numeric.size, 10)))\n",
    "y_train[rows, y_train_numeric] = 1\n",
    "\n",
    "X_train.shape, y_train.shape"
   ]
  },
  {
   "cell_type": "markdown",
   "id": "d6ad8c22",
   "metadata": {},
   "source": [
    "`X_train.shape` and `y_train.shape` tells us that we have 42000 digits in our dataset, with each digit having 784 pixels. We will use tensors to take advantage of faster GPU computations.\n",
    "\n",
    "We want to create a Pytorch [`Dataset`](https://pytorch.org/tutorials/beginner/basics/data_tutorial.html), which is required to return a tuple of `(x,y)` when indexed. Python provides a [`zip`](https://www.w3schools.com/python/ref_func_zip.asp) function which, when combined with [`list`](https://www.w3schools.com/python/ref_func_list.asp), can do this easily:"
   ]
  },
  {
   "cell_type": "code",
   "execution_count": 9,
   "id": "6a037318",
   "metadata": {
    "scrolled": true
   },
   "outputs": [
    {
     "data": {
      "text/plain": [
       "(tensor([0.0000, 0.0000, 0.0000, 0.0000, 0.0000, 0.0000, 0.0000, 0.0000, 0.0000,\n",
       "         0.0000, 0.0000, 0.0000, 0.0000, 0.0000, 0.0000, 0.0000, 0.0000, 0.0000,\n",
       "         0.0000, 0.0000, 0.0000, 0.0000, 0.0000, 0.0000, 0.0000, 0.0000, 0.0000,\n",
       "         0.0000, 0.0000, 0.0000, 0.0000, 0.0000, 0.0000, 0.0000, 0.0000, 0.0000,\n",
       "         0.0000, 0.0000, 0.0000, 0.0000, 0.0000, 0.0000, 0.0000, 0.0000, 0.0000,\n",
       "         0.0000, 0.0000, 0.0000, 0.0000, 0.0000, 0.0000, 0.0000, 0.0000, 0.0000,\n",
       "         0.0000, 0.0000, 0.0000, 0.0000, 0.0000, 0.0000, 0.0000, 0.0000, 0.0000,\n",
       "         0.0000, 0.0000, 0.0000, 0.0000, 0.0000, 0.0000, 0.0000, 0.0000, 0.0000,\n",
       "         0.0000, 0.0000, 0.0000, 0.0000, 0.0000, 0.0000, 0.0000, 0.0000, 0.0000,\n",
       "         0.0000, 0.0000, 0.0000, 0.0000, 0.0000, 0.0000, 0.0000, 0.0000, 0.0000,\n",
       "         0.0000, 0.0000, 0.0000, 0.0000, 0.0000, 0.0000, 0.0000, 0.0000, 0.0000,\n",
       "         0.0000, 0.0000, 0.0000, 0.0000, 0.0000, 0.0000, 0.0000, 0.0000, 0.0000,\n",
       "         0.0000, 0.0000, 0.0000, 0.0000, 0.0000, 0.0000, 0.0000, 0.0000, 0.0000,\n",
       "         0.0000, 0.0000, 0.0000, 0.0000, 0.0000, 0.0000, 0.0000, 0.0000, 0.0000,\n",
       "         0.0000, 0.0000, 0.0000, 0.0000, 0.0000, 0.0000, 0.7373, 1.0000, 0.3686,\n",
       "         0.0000, 0.0000, 0.0000, 0.0000, 0.0000, 0.0000, 0.0000, 0.0000, 0.0000,\n",
       "         0.0000, 0.0000, 0.0000, 0.0000, 0.0000, 0.0000, 0.0000, 0.0000, 0.0000,\n",
       "         0.0000, 0.0000, 0.0000, 0.0000, 0.0000, 0.0000, 0.7490, 0.9804, 0.9922,\n",
       "         0.3647, 0.0000, 0.0000, 0.0000, 0.0000, 0.0000, 0.0000, 0.0000, 0.0000,\n",
       "         0.0000, 0.0000, 0.0000, 0.0000, 0.0000, 0.0000, 0.0000, 0.0000, 0.0000,\n",
       "         0.0000, 0.0000, 0.0000, 0.0000, 0.0000, 0.0000, 0.4824, 0.9725, 0.9922,\n",
       "         0.6549, 0.0392, 0.0000, 0.0000, 0.0000, 0.0000, 0.0000, 0.0000, 0.0000,\n",
       "         0.0000, 0.0000, 0.0000, 0.0000, 0.0000, 0.0000, 0.0000, 0.0000, 0.0000,\n",
       "         0.0000, 0.0000, 0.0000, 0.0000, 0.0000, 0.0000, 0.3137, 0.9686, 0.9922,\n",
       "         0.8157, 0.0510, 0.0000, 0.0000, 0.0000, 0.0000, 0.0000, 0.0000, 0.0000,\n",
       "         0.0000, 0.0000, 0.0000, 0.0000, 0.0000, 0.0000, 0.0000, 0.0000, 0.0000,\n",
       "         0.0000, 0.0000, 0.0000, 0.0000, 0.0000, 0.0000, 0.1137, 0.8118, 0.9922,\n",
       "         0.9216, 0.3020, 0.0000, 0.0000, 0.0000, 0.0000, 0.0000, 0.0000, 0.0000,\n",
       "         0.0000, 0.0000, 0.0000, 0.0000, 0.0000, 0.0000, 0.0000, 0.0000, 0.0000,\n",
       "         0.0000, 0.0000, 0.0000, 0.0000, 0.0000, 0.0000, 0.2118, 0.8196, 0.9922,\n",
       "         0.9922, 0.3451, 0.0000, 0.0000, 0.0000, 0.0000, 0.0000, 0.0000, 0.0000,\n",
       "         0.0000, 0.0000, 0.0000, 0.0000, 0.0000, 0.0000, 0.0000, 0.0000, 0.0000,\n",
       "         0.0000, 0.0000, 0.0000, 0.0000, 0.0000, 0.0000, 0.3647, 0.9961, 0.9922,\n",
       "         0.9333, 0.6667, 0.0667, 0.0000, 0.0000, 0.0000, 0.0000, 0.0000, 0.0000,\n",
       "         0.0000, 0.0000, 0.0000, 0.0000, 0.0000, 0.0000, 0.0000, 0.0000, 0.0000,\n",
       "         0.0000, 0.0000, 0.0000, 0.0000, 0.0000, 0.0000, 0.0902, 0.8235, 0.9961,\n",
       "         0.9922, 0.6235, 0.0000, 0.0000, 0.0000, 0.0000, 0.0000, 0.0000, 0.0000,\n",
       "         0.0000, 0.0000, 0.0000, 0.0000, 0.0000, 0.0000, 0.0000, 0.0000, 0.0000,\n",
       "         0.0000, 0.0000, 0.0000, 0.0000, 0.0000, 0.0000, 0.0627, 0.8196, 0.9922,\n",
       "         0.9961, 0.9412, 0.3176, 0.0000, 0.0000, 0.0000, 0.0000, 0.0000, 0.0000,\n",
       "         0.0000, 0.0000, 0.0000, 0.0000, 0.0000, 0.0000, 0.0000, 0.0000, 0.0000,\n",
       "         0.0000, 0.0000, 0.0000, 0.0000, 0.0000, 0.0000, 0.0000, 0.1059, 0.9922,\n",
       "         0.9922, 0.9961, 0.0510, 0.0000, 0.0000, 0.0000, 0.0000, 0.0000, 0.0000,\n",
       "         0.0000, 0.0000, 0.0000, 0.0000, 0.0000, 0.0000, 0.0000, 0.0000, 0.0000,\n",
       "         0.0000, 0.0000, 0.0000, 0.0000, 0.0000, 0.0000, 0.0000, 0.0784, 0.8078,\n",
       "         0.9961, 0.9961, 0.7765, 0.0275, 0.0000, 0.0000, 0.0000, 0.0000, 0.0000,\n",
       "         0.0000, 0.0000, 0.0000, 0.0000, 0.0000, 0.0000, 0.0000, 0.0000, 0.0000,\n",
       "         0.0000, 0.0000, 0.0000, 0.0000, 0.0000, 0.0000, 0.0000, 0.0000, 0.6588,\n",
       "         0.9922, 0.9922, 0.7686, 0.0275, 0.0000, 0.0000, 0.0000, 0.0000, 0.0000,\n",
       "         0.0000, 0.0000, 0.0000, 0.0000, 0.0000, 0.0000, 0.0000, 0.0000, 0.0000,\n",
       "         0.0000, 0.0000, 0.0000, 0.0000, 0.0000, 0.0000, 0.0000, 0.0000, 0.0784,\n",
       "         0.7961, 0.9922, 0.9725, 0.2980, 0.0000, 0.0000, 0.0000, 0.0000, 0.0000,\n",
       "         0.0000, 0.0000, 0.0000, 0.0000, 0.0000, 0.0000, 0.0000, 0.0000, 0.0000,\n",
       "         0.0000, 0.0000, 0.0000, 0.0000, 0.0000, 0.0000, 0.0000, 0.0000, 0.0863,\n",
       "         0.7373, 0.9922, 0.9608, 0.3647, 0.0000, 0.0000, 0.0000, 0.0000, 0.0000,\n",
       "         0.0000, 0.0000, 0.0000, 0.0000, 0.0000, 0.0000, 0.0000, 0.0000, 0.0000,\n",
       "         0.0000, 0.0000, 0.0000, 0.0000, 0.0000, 0.0000, 0.0000, 0.0000, 0.0000,\n",
       "         0.4039, 0.9922, 0.9922, 0.7490, 0.0000, 0.0000, 0.0000, 0.0000, 0.0000,\n",
       "         0.0000, 0.0000, 0.0000, 0.0000, 0.0000, 0.0000, 0.0000, 0.0000, 0.0000,\n",
       "         0.0000, 0.0000, 0.0000, 0.0000, 0.0000, 0.0000, 0.0000, 0.0000, 0.0000,\n",
       "         0.3490, 0.9412, 0.9922, 0.7647, 0.0980, 0.0000, 0.0000, 0.0000, 0.0000,\n",
       "         0.0000, 0.0000, 0.0000, 0.0000, 0.0000, 0.0000, 0.0000, 0.0000, 0.0000,\n",
       "         0.0000, 0.0000, 0.0000, 0.0000, 0.0000, 0.0000, 0.0000, 0.0000, 0.0000,\n",
       "         0.0588, 0.8627, 0.9922, 0.9922, 0.3137, 0.0000, 0.0000, 0.0000, 0.0000,\n",
       "         0.0000, 0.0000, 0.0000, 0.0000, 0.0000, 0.0000, 0.0000, 0.0000, 0.0000,\n",
       "         0.0000, 0.0000, 0.0000, 0.0000, 0.0000, 0.0000, 0.0000, 0.0000, 0.0000,\n",
       "         0.0000, 0.3686, 0.9922, 0.9922, 0.9922, 0.3686, 0.0000, 0.0000, 0.0000,\n",
       "         0.0000, 0.0000, 0.0000, 0.0000, 0.0000, 0.0000, 0.0000, 0.0000, 0.0000,\n",
       "         0.0000, 0.0000, 0.0000, 0.0000, 0.0000, 0.0000, 0.0000, 0.0000, 0.0000,\n",
       "         0.0000, 0.0000, 0.3490, 0.9843, 0.9922, 0.9804, 0.5137, 0.0000, 0.0000,\n",
       "         0.0000, 0.0000, 0.0000, 0.0000, 0.0000, 0.0000, 0.0000, 0.0000, 0.0000,\n",
       "         0.0000, 0.0000, 0.0000, 0.0000, 0.0000, 0.0000, 0.0000, 0.0000, 0.0000,\n",
       "         0.0000, 0.0000, 0.0000, 0.0000, 0.8392, 0.8549, 0.3725, 0.0000, 0.0000,\n",
       "         0.0000, 0.0000, 0.0000, 0.0000, 0.0000, 0.0000, 0.0000, 0.0000, 0.0000,\n",
       "         0.0000, 0.0000, 0.0000, 0.0000, 0.0000, 0.0000, 0.0000, 0.0000, 0.0000,\n",
       "         0.0000, 0.0000, 0.0000, 0.0000, 0.0000, 0.0000, 0.0000, 0.0000, 0.0000,\n",
       "         0.0000, 0.0000, 0.0000, 0.0000, 0.0000, 0.0000, 0.0000, 0.0000, 0.0000,\n",
       "         0.0000, 0.0000, 0.0000, 0.0000, 0.0000, 0.0000, 0.0000, 0.0000, 0.0000,\n",
       "         0.0000, 0.0000, 0.0000, 0.0000, 0.0000, 0.0000, 0.0000, 0.0000, 0.0000,\n",
       "         0.0000, 0.0000, 0.0000, 0.0000, 0.0000, 0.0000, 0.0000, 0.0000, 0.0000,\n",
       "         0.0000, 0.0000, 0.0000, 0.0000, 0.0000, 0.0000, 0.0000, 0.0000, 0.0000,\n",
       "         0.0000, 0.0000, 0.0000, 0.0000, 0.0000, 0.0000, 0.0000, 0.0000, 0.0000,\n",
       "         0.0000, 0.0000, 0.0000, 0.0000, 0.0000, 0.0000, 0.0000, 0.0000, 0.0000,\n",
       "         0.0000, 0.0000, 0.0000, 0.0000, 0.0000, 0.0000, 0.0000, 0.0000, 0.0000,\n",
       "         0.0000, 0.0000, 0.0000, 0.0000, 0.0000, 0.0000, 0.0000, 0.0000, 0.0000,\n",
       "         0.0000, 0.0000, 0.0000, 0.0000, 0.0000, 0.0000, 0.0000, 0.0000, 0.0000,\n",
       "         0.0000, 0.0000, 0.0000, 0.0000, 0.0000, 0.0000, 0.0000, 0.0000, 0.0000,\n",
       "         0.0000]),\n",
       " tensor([0., 1., 0., 0., 0., 0., 0., 0., 0., 0.]))"
      ]
     },
     "execution_count": 9,
     "metadata": {},
     "output_type": "execute_result"
    }
   ],
   "source": [
    "# |output: false\n",
    "\n",
    "ds = list(zip(X_train,y_train))\n",
    "ds[0]\n",
    "# output removed for readability"
   ]
  },
  {
   "cell_type": "markdown",
   "id": "df78bad9",
   "metadata": {},
   "source": [
    "Next, we want to split our dataset `ds` into a training and validation set:"
   ]
  },
  {
   "cell_type": "code",
   "execution_count": 10,
   "id": "21ea2517",
   "metadata": {},
   "outputs": [],
   "source": [
    "train, val = torch.utils.data.random_split(ds,[32000, 10000])"
   ]
  },
  {
   "cell_type": "markdown",
   "id": "5d15c7cf",
   "metadata": {},
   "source": [
    "Later, we will be using stochastic gradient descent, which requires that we have \"mini-batches\" of our dataset. We can create a `DataLoader` from our `train` dataset to do so:"
   ]
  },
  {
   "cell_type": "code",
   "execution_count": 11,
   "id": "daf9da63",
   "metadata": {},
   "outputs": [
    {
     "data": {
      "text/plain": [
       "(torch.Size([256, 784]), torch.Size([256, 10]))"
      ]
     },
     "execution_count": 11,
     "metadata": {},
     "output_type": "execute_result"
    }
   ],
   "source": [
    "dl = DataLoader(train, batch_size=256)\n",
    "xb,yb = first(dl)\n",
    "xb.shape,yb.shape"
   ]
  },
  {
   "cell_type": "markdown",
   "id": "3372ca05",
   "metadata": {},
   "source": [
    "We can do the same for our validation (`val`) dataset:"
   ]
  },
  {
   "cell_type": "code",
   "execution_count": 12,
   "id": "606d0bc7",
   "metadata": {},
   "outputs": [],
   "source": [
    "valid_dl = DataLoader(val, batch_size=256)"
   ]
  },
  {
   "cell_type": "markdown",
   "id": "2d175742",
   "metadata": {},
   "source": [
    "## Training a Linear Model\n",
    "\n",
    "Now that our data is ready, we can start training our classification model. We will start with a linear model, then add some non-linearity to it!\n",
    "\n",
    "First, we must randomly initialize the bias and all weights for each pixel. Since we have 10 labels (one for each digit), there must be 10 outputs, so our weights matrix is of size `784x10`."
   ]
  },
  {
   "cell_type": "code",
   "execution_count": 13,
   "id": "b84c8398",
   "metadata": {},
   "outputs": [],
   "source": [
    "def init_params(size, std=1.0): return (torch.randn(size)*std).requires_grad_()\n",
    "\n",
    "weights = init_params((784,10))\n",
    "bias = init_params(1)"
   ]
  },
  {
   "cell_type": "markdown",
   "id": "33cbef47",
   "metadata": {},
   "source": [
    "The prediction given a tensor `x` is\n",
    "\n",
    "$$\\text{prediction} = x \\cdot \\text{weights} + \\text{bias}.$$"
   ]
  },
  {
   "cell_type": "code",
   "execution_count": 14,
   "id": "1d5b69bd",
   "metadata": {},
   "outputs": [],
   "source": [
    "def linear1(xb): return xb@weights + bias"
   ]
  },
  {
   "cell_type": "markdown",
   "id": "f6aaeb28",
   "metadata": {},
   "source": [
    "To calculate a gradient, we need a loss function. Since there are more than 2 labels, we will use [cross entropy loss](https://pytorch.org/docs/stable/generated/torch.nn.CrossEntropyLoss.html), which is related to the [softmax](https://developers.google.com/machine-learning/crash-course/multi-class-neural-networks/softmax) function instead of a sigmoid function (which is used for binary classification)."
   ]
  },
  {
   "cell_type": "code",
   "execution_count": 15,
   "id": "1600c8bf",
   "metadata": {},
   "outputs": [],
   "source": [
    "def mnist_loss(xb, yb):\n",
    "    loss = nn.CrossEntropyLoss()\n",
    "    return loss(xb, yb)"
   ]
  },
  {
   "cell_type": "markdown",
   "id": "2b23adda",
   "metadata": {},
   "source": [
    "For testing and demonstration purposes, let's work with a smaller batch than the ones created when shaping our data."
   ]
  },
  {
   "cell_type": "code",
   "execution_count": 16,
   "id": "153245e2",
   "metadata": {},
   "outputs": [
    {
     "data": {
      "text/plain": [
       "torch.Size([4, 784])"
      ]
     },
     "execution_count": 16,
     "metadata": {},
     "output_type": "execute_result"
    }
   ],
   "source": [
    "batch = X_train[:4]\n",
    "batch.shape"
   ]
  },
  {
   "cell_type": "code",
   "execution_count": 17,
   "id": "2cdcfdf5",
   "metadata": {
    "scrolled": true
   },
   "outputs": [
    {
     "data": {
      "text/plain": [
       "tensor([[ -0.5287,  12.6047,  -9.0290,  -1.7505,   3.7686,  18.8489,  -1.8141,\n",
       "         -12.2232,  -5.1421,  -6.6316],\n",
       "        [ 18.8942,  10.7898,   9.2573,   7.9989,  -1.2884,  19.0238,  -5.8788,\n",
       "           6.5045, -10.2431,   5.5865],\n",
       "        [  6.3639,  14.0687,   0.7705,  -1.3580,   1.4220,   7.3108,  -7.4359,\n",
       "          -6.8101,  -5.9212,  23.7016],\n",
       "        [-14.7847,   3.0711,  -0.6092,   2.2720,  -1.1361,   3.7617,   5.1197,\n",
       "           5.3868,  -1.5228,  -7.6523]], grad_fn=<AddBackward0>)"
      ]
     },
     "execution_count": 17,
     "metadata": {},
     "output_type": "execute_result"
    }
   ],
   "source": [
    "preds = linear1(batch)\n",
    "preds"
   ]
  },
  {
   "cell_type": "code",
   "execution_count": 18,
   "id": "6c8f780d",
   "metadata": {
    "scrolled": true
   },
   "outputs": [
    {
     "data": {
      "text/plain": [
       "tensor(5.9773, grad_fn=<DivBackward1>)"
      ]
     },
     "execution_count": 18,
     "metadata": {},
     "output_type": "execute_result"
    }
   ],
   "source": [
    "loss = mnist_loss(preds, y_train[:4])\n",
    "loss"
   ]
  },
  {
   "cell_type": "markdown",
   "id": "e8edecb7",
   "metadata": {},
   "source": [
    "Now we can calculate the gradients:"
   ]
  },
  {
   "cell_type": "code",
   "execution_count": 19,
   "id": "19f7d5db",
   "metadata": {},
   "outputs": [
    {
     "data": {
      "text/plain": [
       "(torch.Size([784, 10]), tensor(2.4328e-10), tensor([5.9605e-08]))"
      ]
     },
     "execution_count": 19,
     "metadata": {},
     "output_type": "execute_result"
    }
   ],
   "source": [
    "loss.backward()\n",
    "weights.grad.shape,weights.grad.mean(),bias.grad"
   ]
  },
  {
   "cell_type": "markdown",
   "id": "f498aa7b",
   "metadata": {},
   "source": [
    "The following function combines the above code and generalizes to models other than `linear1`."
   ]
  },
  {
   "cell_type": "code",
   "execution_count": 20,
   "id": "fc90a876",
   "metadata": {},
   "outputs": [],
   "source": [
    "def calc_grad(xb, yb, model):\n",
    "    preds = model(xb)\n",
    "    loss = mnist_loss(preds, yb)\n",
    "    loss.backward()"
   ]
  },
  {
   "cell_type": "code",
   "execution_count": 21,
   "id": "58a41c42",
   "metadata": {},
   "outputs": [
    {
     "data": {
      "text/plain": [
       "(tensor(4.8657e-10), tensor([1.1921e-07]))"
      ]
     },
     "execution_count": 21,
     "metadata": {},
     "output_type": "execute_result"
    }
   ],
   "source": [
    "calc_grad(batch, y_train[:4], linear1)\n",
    "weights.grad.mean(),bias.grad"
   ]
  },
  {
   "cell_type": "markdown",
   "id": "3b987911",
   "metadata": {},
   "source": [
    "Using the calculated gradients, we can update the weights for each epoch. We need to specify a learning rate and reset the gradients to 0, since `loss.backward` actually adds the gradients of loss to any gradients that are currently stored.\n",
    "```Python\n",
    "lr = 1.\n",
    "\n",
    "for p in weights,bias:\n",
    "    p.data -= p.grad*lr\n",
    "    p.grad.zero_()\n",
    "```"
   ]
  },
  {
   "cell_type": "markdown",
   "id": "78a17a65",
   "metadata": {},
   "source": [
    "Finally, we can define a function that trains the model for one epoch:"
   ]
  },
  {
   "cell_type": "code",
   "execution_count": 22,
   "id": "76363e15",
   "metadata": {},
   "outputs": [],
   "source": [
    "def train_epoch(model, params, lr=1):\n",
    "    for xb,yb in dl:\n",
    "        calc_grad(xb, yb, model)\n",
    "        for p in params:\n",
    "            p.data -= p.grad*lr\n",
    "            p.grad.zero_()"
   ]
  },
  {
   "cell_type": "markdown",
   "id": "ba8f980d",
   "metadata": {},
   "source": [
    "We also probably want to check the accuracy of our model. The label that the model predicts is the label with the highest activation:"
   ]
  },
  {
   "cell_type": "code",
   "execution_count": 23,
   "id": "53401855",
   "metadata": {},
   "outputs": [],
   "source": [
    "def batch_accuracy(xb, yb):\n",
    "    label = torch.argmax(xb, dim=1)\n",
    "    y_truth = torch.argmax(yb, dim=1)\n",
    "    correct = y_truth == label\n",
    "    return correct.float().mean()"
   ]
  },
  {
   "cell_type": "code",
   "execution_count": 24,
   "id": "89932128",
   "metadata": {},
   "outputs": [
    {
     "data": {
      "text/plain": [
       "tensor(0.)"
      ]
     },
     "execution_count": 24,
     "metadata": {},
     "output_type": "execute_result"
    }
   ],
   "source": [
    "batch_accuracy(linear1(batch), y_train[:4])"
   ]
  },
  {
   "cell_type": "markdown",
   "id": "324a07b8",
   "metadata": {},
   "source": [
    "To get the accuracy for the whole epoch, we must call `batch_accuracy` with batches of the validation dataset, then take the mean over all batches."
   ]
  },
  {
   "cell_type": "code",
   "execution_count": 25,
   "id": "7767ee67",
   "metadata": {},
   "outputs": [],
   "source": [
    "def validate_epoch(model):\n",
    "    accs = [batch_accuracy(model(xb), yb) for xb,yb in valid_dl]\n",
    "    return round(torch.stack(accs).mean().item(), 4)"
   ]
  },
  {
   "cell_type": "markdown",
   "id": "26f951ca",
   "metadata": {},
   "source": [
    "Finally, we can see if our code works by checking if the accuracy improves!"
   ]
  },
  {
   "cell_type": "code",
   "execution_count": 26,
   "id": "1f188004",
   "metadata": {},
   "outputs": [
    {
     "name": "stdout",
     "output_type": "stream",
     "text": [
      "0.8213 0.8532 0.8661 0.8736 0.8769 0.8808 0.8848 0.8869 0.8895 0.8914 0.8929 0.894 0.8949 0.8964 0.8973 0.8977 0.8978 0.8979 0.8981 0.8986 0.8998 0.9 0.9004 0.9016 0.9017 0.9027 0.9027 0.9032 0.9037 0.9047 0.9053 0.9058 0.9061 0.9062 0.9061 0.9062 0.906 0.9061 0.906 0.9063 "
     ]
    }
   ],
   "source": [
    "params = weights, bias\n",
    "for i in range(40):\n",
    "    train_epoch(linear1, params)\n",
    "    print(validate_epoch(linear1), end=' ')"
   ]
  },
  {
   "cell_type": "markdown",
   "id": "f4b7d7f6",
   "metadata": {},
   "source": [
    "## Simplifying Code"
   ]
  },
  {
   "cell_type": "markdown",
   "id": "639e28e6",
   "metadata": {},
   "source": [
    "`nn.Linear` does the same thing as our `init_params` and `linear1` functions together. Also, fastai's `SGD` class provides us with functions that takes care of updating the parameters and reseting the gradients of our model. By replacing some code, we can boil the training portion of our MNIST classifer down to the following:"
   ]
  },
  {
   "cell_type": "code",
   "execution_count": 27,
   "id": "dac73f5c",
   "metadata": {},
   "outputs": [
    {
     "name": "stdout",
     "output_type": "stream",
     "text": [
      "0.8983 0.9057 0.9092 0.9113 0.9143 0.9149 0.9154 0.9154 0.9162 0.9161 0.9166 0.9167 0.9166 0.9166 0.9164 0.9169 0.917 0.9173 0.9173 0.9175 "
     ]
    }
   ],
   "source": [
    "def mnist_loss(xb, yb):\n",
    "    loss = nn.CrossEntropyLoss()\n",
    "    return loss(xb, yb)\n",
    "\n",
    "def calc_grad(xb, yb, model):\n",
    "    preds = model(xb)\n",
    "    loss = mnist_loss(preds, yb)\n",
    "    loss.backward()\n",
    "\n",
    "def train_epoch_simple(model):\n",
    "    for xb,yb in dl:\n",
    "        calc_grad(xb, yb, model)\n",
    "        opt.step()\n",
    "        opt.zero_grad()\n",
    "        \n",
    "def train_model(model, epochs):\n",
    "    for i in range(epochs):\n",
    "        train_epoch_simple(model)\n",
    "        print(validate_epoch(model), end=' ')\n",
    "        \n",
    "linear_model = nn.Linear(28*28,10)\n",
    "opt = SGD(linear_model.parameters(), lr=1)\n",
    "train_model(linear_model, 20)"
   ]
  },
  {
   "cell_type": "markdown",
   "id": "38da29e4",
   "metadata": {},
   "source": [
    "Fast.ai provides us with `Learner.fit`, which we can use instead of `train_model` to significantly reduce the amount of code we need to write. To use the function, we must create a `Learner`, which requires a `DataLoaders` of our training and validation datasets:"
   ]
  },
  {
   "cell_type": "code",
   "execution_count": 28,
   "id": "0e870870",
   "metadata": {},
   "outputs": [],
   "source": [
    "dls = DataLoaders(dl, valid_dl)"
   ]
  },
  {
   "cell_type": "markdown",
   "id": "6112f9a3",
   "metadata": {},
   "source": [
    "Then, we pass in `DataLoaders`, the model, the optimization function, the loss function, and optionally any metrics to print into the `Learner` constructor to create one:"
   ]
  },
  {
   "cell_type": "code",
   "execution_count": 29,
   "id": "c5f57522",
   "metadata": {},
   "outputs": [],
   "source": [
    "learn = Learner(dls, nn.Linear(28*28,10), opt_func=SGD,\n",
    "                loss_func=mnist_loss, metrics=batch_accuracy)"
   ]
  },
  {
   "cell_type": "markdown",
   "id": "0754164b",
   "metadata": {},
   "source": [
    "Finally, we can call `Learner.fit`:"
   ]
  },
  {
   "cell_type": "code",
   "execution_count": 30,
   "id": "1ef06e43",
   "metadata": {},
   "outputs": [
    {
     "data": {
      "text/html": [
       "\n",
       "<style>\n",
       "    /* Turns off some styling */\n",
       "    progress {\n",
       "        /* gets rid of default border in Firefox and Opera. */\n",
       "        border: none;\n",
       "        /* Needs to be in here for Safari polyfill so background images work as expected. */\n",
       "        background-size: auto;\n",
       "    }\n",
       "    progress:not([value]), progress:not([value])::-webkit-progress-bar {\n",
       "        background: repeating-linear-gradient(45deg, #7e7e7e, #7e7e7e 10px, #5c5c5c 10px, #5c5c5c 20px);\n",
       "    }\n",
       "    .progress-bar-interrupted, .progress-bar-interrupted::-webkit-progress-bar {\n",
       "        background: #F44336;\n",
       "    }\n",
       "</style>\n"
      ],
      "text/plain": [
       "<IPython.core.display.HTML object>"
      ]
     },
     "metadata": {},
     "output_type": "display_data"
    },
    {
     "data": {
      "text/html": [
       "<table border=\"1\" class=\"dataframe\">\n",
       "  <thead>\n",
       "    <tr style=\"text-align: left;\">\n",
       "      <th>epoch</th>\n",
       "      <th>train_loss</th>\n",
       "      <th>valid_loss</th>\n",
       "      <th>batch_accuracy</th>\n",
       "      <th>time</th>\n",
       "    </tr>\n",
       "  </thead>\n",
       "  <tbody>\n",
       "    <tr>\n",
       "      <td>0</td>\n",
       "      <td>0.413918</td>\n",
       "      <td>0.365917</td>\n",
       "      <td>0.897400</td>\n",
       "      <td>00:00</td>\n",
       "    </tr>\n",
       "    <tr>\n",
       "      <td>1</td>\n",
       "      <td>0.326721</td>\n",
       "      <td>0.337396</td>\n",
       "      <td>0.905100</td>\n",
       "      <td>00:00</td>\n",
       "    </tr>\n",
       "    <tr>\n",
       "      <td>2</td>\n",
       "      <td>0.302027</td>\n",
       "      <td>0.325679</td>\n",
       "      <td>0.908500</td>\n",
       "      <td>00:00</td>\n",
       "    </tr>\n",
       "    <tr>\n",
       "      <td>3</td>\n",
       "      <td>0.289524</td>\n",
       "      <td>0.319092</td>\n",
       "      <td>0.910000</td>\n",
       "      <td>00:00</td>\n",
       "    </tr>\n",
       "    <tr>\n",
       "      <td>4</td>\n",
       "      <td>0.281248</td>\n",
       "      <td>0.314855</td>\n",
       "      <td>0.912800</td>\n",
       "      <td>00:00</td>\n",
       "    </tr>\n",
       "    <tr>\n",
       "      <td>5</td>\n",
       "      <td>0.275084</td>\n",
       "      <td>0.311911</td>\n",
       "      <td>0.913200</td>\n",
       "      <td>00:00</td>\n",
       "    </tr>\n",
       "    <tr>\n",
       "      <td>6</td>\n",
       "      <td>0.270192</td>\n",
       "      <td>0.309764</td>\n",
       "      <td>0.913500</td>\n",
       "      <td>00:00</td>\n",
       "    </tr>\n",
       "    <tr>\n",
       "      <td>7</td>\n",
       "      <td>0.266153</td>\n",
       "      <td>0.308146</td>\n",
       "      <td>0.913900</td>\n",
       "      <td>00:00</td>\n",
       "    </tr>\n",
       "    <tr>\n",
       "      <td>8</td>\n",
       "      <td>0.262723</td>\n",
       "      <td>0.306901</td>\n",
       "      <td>0.914300</td>\n",
       "      <td>00:00</td>\n",
       "    </tr>\n",
       "    <tr>\n",
       "      <td>9</td>\n",
       "      <td>0.259748</td>\n",
       "      <td>0.305928</td>\n",
       "      <td>0.914900</td>\n",
       "      <td>00:00</td>\n",
       "    </tr>\n",
       "  </tbody>\n",
       "</table>"
      ],
      "text/plain": [
       "<IPython.core.display.HTML object>"
      ]
     },
     "metadata": {},
     "output_type": "display_data"
    }
   ],
   "source": [
    "learn.fit(10, lr=1)"
   ]
  },
  {
   "cell_type": "markdown",
   "id": "b57d85b3",
   "metadata": {},
   "source": [
    "## Adding Non-linearity\n",
    "\n",
    "To expand upon our model, we can add another layer on top of what we have now. However, mathematically speaking, the composition of two linear functions is another linear function. Therefore, stacking two linear classifiers on top of each other is equivalent to having just one linear classifier.\n",
    "\n",
    "Therefore, we must add some non-linearity between linear layers. We often do this by through activation functions; a common one is the [`ReLU`](https://machinelearningmastery.com/rectified-linear-activation-function-for-deep-learning-neural-networks/) function:"
   ]
  },
  {
   "cell_type": "code",
   "execution_count": 31,
   "id": "30f3fe39",
   "metadata": {},
   "outputs": [
    {
     "data": {
      "text/plain": [
       "[<matplotlib.lines.Line2D at 0x7f4221aaf390>]"
      ]
     },
     "execution_count": 31,
     "metadata": {},
     "output_type": "execute_result"
    },
    {
     "data": {
      "image/png": "[encoded data removed]",
      "text/plain": [
       "<Figure size 432x288 with 1 Axes>"
      ]
     },
     "metadata": {
      "needs_background": "light"
     },
     "output_type": "display_data"
    }
   ],
   "source": [
    "x = np.linspace(-5,5,100)\n",
    "y = np.maximum(0, x)\n",
    "\n",
    "plt.plot(x, y)"
   ]
  },
  {
   "cell_type": "markdown",
   "id": "cfc9f1e4",
   "metadata": {},
   "source": [
    "[`nn.Sequential`](https://pytorch.org/docs/stable/generated/torch.nn.Sequential.html) creates a module that will call each of the listed layers or functions.\n",
    "\n",
    "Our first layer takes in 784 inputs (pixels) and outputs 60 numbers. Those 60 numbers are then each passed into the `ReLU` function before going into the second layer. The second layer has 10 outputs, which as before, is the probability of each digit being the lable."
   ]
  },
  {
   "cell_type": "code",
   "execution_count": 32,
   "id": "e7f0ca83",
   "metadata": {},
   "outputs": [],
   "source": [
    "simple_net = nn.Sequential(\n",
    "    nn.Linear(784,100),\n",
    "    nn.ReLU(),\n",
    "    nn.Linear(100,10)\n",
    ")"
   ]
  },
  {
   "cell_type": "markdown",
   "id": "b5484633",
   "metadata": {},
   "source": [
    "We can train this model using `Learner.fit` as well (we are using more epochs and smaller learning rate, since it is a larger model):"
   ]
  },
  {
   "cell_type": "code",
   "execution_count": 33,
   "id": "7b29a7c5",
   "metadata": {},
   "outputs": [
    {
     "data": {
      "text/html": [
       "\n",
       "<style>\n",
       "    /* Turns off some styling */\n",
       "    progress {\n",
       "        /* gets rid of default border in Firefox and Opera. */\n",
       "        border: none;\n",
       "        /* Needs to be in here for Safari polyfill so background images work as expected. */\n",
       "        background-size: auto;\n",
       "    }\n",
       "    progress:not([value]), progress:not([value])::-webkit-progress-bar {\n",
       "        background: repeating-linear-gradient(45deg, #7e7e7e, #7e7e7e 10px, #5c5c5c 10px, #5c5c5c 20px);\n",
       "    }\n",
       "    .progress-bar-interrupted, .progress-bar-interrupted::-webkit-progress-bar {\n",
       "        background: #F44336;\n",
       "    }\n",
       "</style>\n"
      ],
      "text/plain": [
       "<IPython.core.display.HTML object>"
      ]
     },
     "metadata": {},
     "output_type": "display_data"
    },
    {
     "data": {
      "text/html": [
       "<table border=\"1\" class=\"dataframe\">\n",
       "  <thead>\n",
       "    <tr style=\"text-align: left;\">\n",
       "      <th>epoch</th>\n",
       "      <th>train_loss</th>\n",
       "      <th>valid_loss</th>\n",
       "      <th>batch_accuracy</th>\n",
       "      <th>time</th>\n",
       "    </tr>\n",
       "  </thead>\n",
       "  <tbody>\n",
       "    <tr>\n",
       "      <td>0</td>\n",
       "      <td>0.781461</td>\n",
       "      <td>0.532242</td>\n",
       "      <td>0.866300</td>\n",
       "      <td>00:00</td>\n",
       "    </tr>\n",
       "    <tr>\n",
       "      <td>1</td>\n",
       "      <td>0.441000</td>\n",
       "      <td>0.395819</td>\n",
       "      <td>0.893000</td>\n",
       "      <td>00:00</td>\n",
       "    </tr>\n",
       "    <tr>\n",
       "      <td>2</td>\n",
       "      <td>0.355962</td>\n",
       "      <td>0.352042</td>\n",
       "      <td>0.902600</td>\n",
       "      <td>00:00</td>\n",
       "    </tr>\n",
       "    <tr>\n",
       "      <td>3</td>\n",
       "      <td>0.319263</td>\n",
       "      <td>0.327102</td>\n",
       "      <td>0.909500</td>\n",
       "      <td>00:00</td>\n",
       "    </tr>\n",
       "    <tr>\n",
       "      <td>4</td>\n",
       "      <td>0.295532</td>\n",
       "      <td>0.308874</td>\n",
       "      <td>0.913600</td>\n",
       "      <td>00:00</td>\n",
       "    </tr>\n",
       "    <tr>\n",
       "      <td>5</td>\n",
       "      <td>0.276869</td>\n",
       "      <td>0.293574</td>\n",
       "      <td>0.917000</td>\n",
       "      <td>00:00</td>\n",
       "    </tr>\n",
       "    <tr>\n",
       "      <td>6</td>\n",
       "      <td>0.261044</td>\n",
       "      <td>0.280591</td>\n",
       "      <td>0.920400</td>\n",
       "      <td>00:00</td>\n",
       "    </tr>\n",
       "    <tr>\n",
       "      <td>7</td>\n",
       "      <td>0.247288</td>\n",
       "      <td>0.268860</td>\n",
       "      <td>0.924300</td>\n",
       "      <td>00:00</td>\n",
       "    </tr>\n",
       "    <tr>\n",
       "      <td>8</td>\n",
       "      <td>0.235076</td>\n",
       "      <td>0.258463</td>\n",
       "      <td>0.927900</td>\n",
       "      <td>00:00</td>\n",
       "    </tr>\n",
       "    <tr>\n",
       "      <td>9</td>\n",
       "      <td>0.223990</td>\n",
       "      <td>0.248834</td>\n",
       "      <td>0.930800</td>\n",
       "      <td>00:00</td>\n",
       "    </tr>\n",
       "    <tr>\n",
       "      <td>10</td>\n",
       "      <td>0.213890</td>\n",
       "      <td>0.240252</td>\n",
       "      <td>0.932900</td>\n",
       "      <td>00:00</td>\n",
       "    </tr>\n",
       "    <tr>\n",
       "      <td>11</td>\n",
       "      <td>0.204643</td>\n",
       "      <td>0.232565</td>\n",
       "      <td>0.935200</td>\n",
       "      <td>00:00</td>\n",
       "    </tr>\n",
       "    <tr>\n",
       "      <td>12</td>\n",
       "      <td>0.196180</td>\n",
       "      <td>0.225423</td>\n",
       "      <td>0.937000</td>\n",
       "      <td>00:00</td>\n",
       "    </tr>\n",
       "    <tr>\n",
       "      <td>13</td>\n",
       "      <td>0.188346</td>\n",
       "      <td>0.218758</td>\n",
       "      <td>0.939200</td>\n",
       "      <td>00:00</td>\n",
       "    </tr>\n",
       "    <tr>\n",
       "      <td>14</td>\n",
       "      <td>0.181094</td>\n",
       "      <td>0.212594</td>\n",
       "      <td>0.939900</td>\n",
       "      <td>00:00</td>\n",
       "    </tr>\n",
       "    <tr>\n",
       "      <td>15</td>\n",
       "      <td>0.174359</td>\n",
       "      <td>0.206947</td>\n",
       "      <td>0.940100</td>\n",
       "      <td>00:00</td>\n",
       "    </tr>\n",
       "    <tr>\n",
       "      <td>16</td>\n",
       "      <td>0.168056</td>\n",
       "      <td>0.201667</td>\n",
       "      <td>0.941700</td>\n",
       "      <td>00:00</td>\n",
       "    </tr>\n",
       "    <tr>\n",
       "      <td>17</td>\n",
       "      <td>0.162067</td>\n",
       "      <td>0.196636</td>\n",
       "      <td>0.943100</td>\n",
       "      <td>00:00</td>\n",
       "    </tr>\n",
       "    <tr>\n",
       "      <td>18</td>\n",
       "      <td>0.156417</td>\n",
       "      <td>0.191967</td>\n",
       "      <td>0.944300</td>\n",
       "      <td>00:00</td>\n",
       "    </tr>\n",
       "    <tr>\n",
       "      <td>19</td>\n",
       "      <td>0.151026</td>\n",
       "      <td>0.187445</td>\n",
       "      <td>0.945500</td>\n",
       "      <td>00:00</td>\n",
       "    </tr>\n",
       "    <tr>\n",
       "      <td>20</td>\n",
       "      <td>0.145904</td>\n",
       "      <td>0.183263</td>\n",
       "      <td>0.946400</td>\n",
       "      <td>00:00</td>\n",
       "    </tr>\n",
       "    <tr>\n",
       "      <td>21</td>\n",
       "      <td>0.141032</td>\n",
       "      <td>0.179306</td>\n",
       "      <td>0.947400</td>\n",
       "      <td>00:00</td>\n",
       "    </tr>\n",
       "    <tr>\n",
       "      <td>22</td>\n",
       "      <td>0.136399</td>\n",
       "      <td>0.175533</td>\n",
       "      <td>0.948500</td>\n",
       "      <td>00:00</td>\n",
       "    </tr>\n",
       "    <tr>\n",
       "      <td>23</td>\n",
       "      <td>0.132011</td>\n",
       "      <td>0.171847</td>\n",
       "      <td>0.949300</td>\n",
       "      <td>00:00</td>\n",
       "    </tr>\n",
       "    <tr>\n",
       "      <td>24</td>\n",
       "      <td>0.127819</td>\n",
       "      <td>0.168481</td>\n",
       "      <td>0.950700</td>\n",
       "      <td>00:00</td>\n",
       "    </tr>\n",
       "    <tr>\n",
       "      <td>25</td>\n",
       "      <td>0.123817</td>\n",
       "      <td>0.165292</td>\n",
       "      <td>0.951900</td>\n",
       "      <td>00:00</td>\n",
       "    </tr>\n",
       "    <tr>\n",
       "      <td>26</td>\n",
       "      <td>0.120019</td>\n",
       "      <td>0.162331</td>\n",
       "      <td>0.952500</td>\n",
       "      <td>00:00</td>\n",
       "    </tr>\n",
       "    <tr>\n",
       "      <td>27</td>\n",
       "      <td>0.116390</td>\n",
       "      <td>0.159504</td>\n",
       "      <td>0.953500</td>\n",
       "      <td>00:00</td>\n",
       "    </tr>\n",
       "    <tr>\n",
       "      <td>28</td>\n",
       "      <td>0.112947</td>\n",
       "      <td>0.156784</td>\n",
       "      <td>0.954100</td>\n",
       "      <td>00:00</td>\n",
       "    </tr>\n",
       "    <tr>\n",
       "      <td>29</td>\n",
       "      <td>0.109665</td>\n",
       "      <td>0.154226</td>\n",
       "      <td>0.955200</td>\n",
       "      <td>00:00</td>\n",
       "    </tr>\n",
       "    <tr>\n",
       "      <td>30</td>\n",
       "      <td>0.106508</td>\n",
       "      <td>0.151784</td>\n",
       "      <td>0.955900</td>\n",
       "      <td>00:00</td>\n",
       "    </tr>\n",
       "    <tr>\n",
       "      <td>31</td>\n",
       "      <td>0.103485</td>\n",
       "      <td>0.149547</td>\n",
       "      <td>0.956500</td>\n",
       "      <td>00:00</td>\n",
       "    </tr>\n",
       "    <tr>\n",
       "      <td>32</td>\n",
       "      <td>0.100609</td>\n",
       "      <td>0.147393</td>\n",
       "      <td>0.957300</td>\n",
       "      <td>00:00</td>\n",
       "    </tr>\n",
       "    <tr>\n",
       "      <td>33</td>\n",
       "      <td>0.097871</td>\n",
       "      <td>0.145380</td>\n",
       "      <td>0.957700</td>\n",
       "      <td>00:00</td>\n",
       "    </tr>\n",
       "    <tr>\n",
       "      <td>34</td>\n",
       "      <td>0.095229</td>\n",
       "      <td>0.143457</td>\n",
       "      <td>0.958700</td>\n",
       "      <td>00:00</td>\n",
       "    </tr>\n",
       "    <tr>\n",
       "      <td>35</td>\n",
       "      <td>0.092694</td>\n",
       "      <td>0.141595</td>\n",
       "      <td>0.959100</td>\n",
       "      <td>00:00</td>\n",
       "    </tr>\n",
       "    <tr>\n",
       "      <td>36</td>\n",
       "      <td>0.090273</td>\n",
       "      <td>0.139827</td>\n",
       "      <td>0.959100</td>\n",
       "      <td>00:00</td>\n",
       "    </tr>\n",
       "    <tr>\n",
       "      <td>37</td>\n",
       "      <td>0.087953</td>\n",
       "      <td>0.138202</td>\n",
       "      <td>0.959800</td>\n",
       "      <td>00:00</td>\n",
       "    </tr>\n",
       "    <tr>\n",
       "      <td>38</td>\n",
       "      <td>0.085736</td>\n",
       "      <td>0.136662</td>\n",
       "      <td>0.960100</td>\n",
       "      <td>00:00</td>\n",
       "    </tr>\n",
       "    <tr>\n",
       "      <td>39</td>\n",
       "      <td>0.083610</td>\n",
       "      <td>0.135193</td>\n",
       "      <td>0.960400</td>\n",
       "      <td>00:00</td>\n",
       "    </tr>\n",
       "    <tr>\n",
       "      <td>40</td>\n",
       "      <td>0.081549</td>\n",
       "      <td>0.133738</td>\n",
       "      <td>0.960800</td>\n",
       "      <td>00:00</td>\n",
       "    </tr>\n",
       "    <tr>\n",
       "      <td>41</td>\n",
       "      <td>0.079560</td>\n",
       "      <td>0.132337</td>\n",
       "      <td>0.961600</td>\n",
       "      <td>00:00</td>\n",
       "    </tr>\n",
       "    <tr>\n",
       "      <td>42</td>\n",
       "      <td>0.077661</td>\n",
       "      <td>0.131035</td>\n",
       "      <td>0.962100</td>\n",
       "      <td>00:00</td>\n",
       "    </tr>\n",
       "    <tr>\n",
       "      <td>43</td>\n",
       "      <td>0.075826</td>\n",
       "      <td>0.129802</td>\n",
       "      <td>0.962100</td>\n",
       "      <td>00:00</td>\n",
       "    </tr>\n",
       "    <tr>\n",
       "      <td>44</td>\n",
       "      <td>0.074042</td>\n",
       "      <td>0.128692</td>\n",
       "      <td>0.962200</td>\n",
       "      <td>00:00</td>\n",
       "    </tr>\n",
       "    <tr>\n",
       "      <td>45</td>\n",
       "      <td>0.072344</td>\n",
       "      <td>0.127533</td>\n",
       "      <td>0.962300</td>\n",
       "      <td>00:00</td>\n",
       "    </tr>\n",
       "    <tr>\n",
       "      <td>46</td>\n",
       "      <td>0.070702</td>\n",
       "      <td>0.126541</td>\n",
       "      <td>0.962500</td>\n",
       "      <td>00:00</td>\n",
       "    </tr>\n",
       "    <tr>\n",
       "      <td>47</td>\n",
       "      <td>0.069096</td>\n",
       "      <td>0.125475</td>\n",
       "      <td>0.963100</td>\n",
       "      <td>00:00</td>\n",
       "    </tr>\n",
       "    <tr>\n",
       "      <td>48</td>\n",
       "      <td>0.067572</td>\n",
       "      <td>0.124556</td>\n",
       "      <td>0.963300</td>\n",
       "      <td>00:00</td>\n",
       "    </tr>\n",
       "    <tr>\n",
       "      <td>49</td>\n",
       "      <td>0.066088</td>\n",
       "      <td>0.123669</td>\n",
       "      <td>0.963600</td>\n",
       "      <td>00:00</td>\n",
       "    </tr>\n",
       "    <tr>\n",
       "      <td>50</td>\n",
       "      <td>0.064652</td>\n",
       "      <td>0.122781</td>\n",
       "      <td>0.963900</td>\n",
       "      <td>00:00</td>\n",
       "    </tr>\n",
       "    <tr>\n",
       "      <td>51</td>\n",
       "      <td>0.063260</td>\n",
       "      <td>0.121974</td>\n",
       "      <td>0.964200</td>\n",
       "      <td>00:00</td>\n",
       "    </tr>\n",
       "    <tr>\n",
       "      <td>52</td>\n",
       "      <td>0.061913</td>\n",
       "      <td>0.121199</td>\n",
       "      <td>0.964300</td>\n",
       "      <td>00:00</td>\n",
       "    </tr>\n",
       "    <tr>\n",
       "      <td>53</td>\n",
       "      <td>0.060608</td>\n",
       "      <td>0.120421</td>\n",
       "      <td>0.964600</td>\n",
       "      <td>00:00</td>\n",
       "    </tr>\n",
       "    <tr>\n",
       "      <td>54</td>\n",
       "      <td>0.059330</td>\n",
       "      <td>0.119673</td>\n",
       "      <td>0.964700</td>\n",
       "      <td>00:00</td>\n",
       "    </tr>\n",
       "    <tr>\n",
       "      <td>55</td>\n",
       "      <td>0.058102</td>\n",
       "      <td>0.118998</td>\n",
       "      <td>0.965000</td>\n",
       "      <td>00:01</td>\n",
       "    </tr>\n",
       "    <tr>\n",
       "      <td>56</td>\n",
       "      <td>0.056910</td>\n",
       "      <td>0.118366</td>\n",
       "      <td>0.965000</td>\n",
       "      <td>00:00</td>\n",
       "    </tr>\n",
       "    <tr>\n",
       "      <td>57</td>\n",
       "      <td>0.055744</td>\n",
       "      <td>0.117742</td>\n",
       "      <td>0.965000</td>\n",
       "      <td>00:00</td>\n",
       "    </tr>\n",
       "    <tr>\n",
       "      <td>58</td>\n",
       "      <td>0.054619</td>\n",
       "      <td>0.117166</td>\n",
       "      <td>0.965100</td>\n",
       "      <td>00:00</td>\n",
       "    </tr>\n",
       "    <tr>\n",
       "      <td>59</td>\n",
       "      <td>0.053524</td>\n",
       "      <td>0.116611</td>\n",
       "      <td>0.965200</td>\n",
       "      <td>00:00</td>\n",
       "    </tr>\n",
       "  </tbody>\n",
       "</table>"
      ],
      "text/plain": [
       "<IPython.core.display.HTML object>"
      ]
     },
     "metadata": {},
     "output_type": "display_data"
    }
   ],
   "source": [
    "# |output: false\n",
    "learn = Learner(dls, simple_net, opt_func=SGD,\n",
    "                loss_func=mnist_loss, metrics=batch_accuracy)\n",
    "learn.fit(60, lr=0.1)"
   ]
  },
  {
   "cell_type": "markdown",
   "id": "a8f27fa1",
   "metadata": {},
   "source": [
    "The output is ommitted to save room; the training process is recorded in `learn.recorder`, with the table of output stored in the `values` attribute, so we can plot the accuracy over training as:"
   ]
  },
  {
   "cell_type": "code",
   "execution_count": 34,
   "id": "7b507f7c",
   "metadata": {},
   "outputs": [
    {
     "data": {
      "text/plain": [
       "[<matplotlib.lines.Line2D at 0x7f4221be7610>]"
      ]
     },
     "execution_count": 34,
     "metadata": {},
     "output_type": "execute_result"
    },
    {
     "data": {
      "image/png": "[encoded data removed]",
      "text/plain": [
       "<Figure size 432x288 with 1 Axes>"
      ]
     },
     "metadata": {
      "needs_background": "light"
     },
     "output_type": "display_data"
    }
   ],
   "source": [
    "plt.plot(L(learn.recorder.values).itemgot(2))"
   ]
  },
  {
   "cell_type": "code",
   "execution_count": 35,
   "id": "22504823",
   "metadata": {},
   "outputs": [
    {
     "data": {
      "text/plain": [
       "0.9652000069618225"
      ]
     },
     "execution_count": 35,
     "metadata": {},
     "output_type": "execute_result"
    }
   ],
   "source": [
    "# final accuracy\n",
    "learn.recorder.values[-1][2]"
   ]
  },
  {
   "cell_type": "markdown",
   "id": "9aa793fb",
   "metadata": {},
   "source": [
    "## Making a Submission\n",
    "\n",
    "Though our very basic model is far from perfect, we can still submit it to the competition! Recall that we stored the test.csv data into the df_test `DataFrame`. We need to first normalize the pixels then plug it into our model:"
   ]
  },
  {
   "cell_type": "code",
   "execution_count": 36,
   "id": "3f36a71c",
   "metadata": {},
   "outputs": [],
   "source": [
    "X_test = tensor(df_test)/ 255.0"
   ]
  },
  {
   "cell_type": "code",
   "execution_count": 37,
   "id": "d9dd447c",
   "metadata": {
    "scrolled": true
   },
   "outputs": [],
   "source": [
    "x_val = simple_net(X_test)\n",
    "y_pred = torch.argmax(x_val, dim=1)\n",
    "y_pred = y_pred.tolist()"
   ]
  },
  {
   "cell_type": "markdown",
   "id": "ba18a48e",
   "metadata": {},
   "source": [
    "Finally, we can create a submission file in our current directory:"
   ]
  },
  {
   "cell_type": "code",
   "execution_count": 38,
   "id": "407ff62b",
   "metadata": {},
   "outputs": [],
   "source": [
    "with open(\"submission.csv\", 'w+') as f :\n",
    "    f.write('ImageId,Label\\n')\n",
    "    for i in range(len(y_pred)) :\n",
    "        f.write(\"\".join([str(i+1),',',str(y_pred[i]),'\\n']))"
   ]
  },
  {
   "cell_type": "markdown",
   "id": "e9ba5eca",
   "metadata": {},
   "source": [
    "Then submit to Kaggle!"
   ]
  },
  {
   "cell_type": "code",
   "execution_count": 39,
   "id": "7e4ae00f",
   "metadata": {},
   "outputs": [
    {
     "name": "stdout",
     "output_type": "stream",
     "text": [
      "100%|█████████████████████████████████████████| 208k/208k [00:01<00:00, 165kB/s]\n",
      "Successfully submitted to Digit Recognizer"
     ]
    }
   ],
   "source": [
    "!kaggle competitions submit -c digit-recognizer -f submission.csv -m \"First Attempt\""
   ]
  }
 ],
 "metadata": {
  "environment": {
   "kernel": "python3",
   "name": "pytorch-gpu.1-12.m94",
   "type": "gcloud",
   "uri": "gcr.io/deeplearning-platform-release/pytorch-gpu.1-12:m94"
  },
  "kernelspec": {
   "display_name": "Python 3",
   "language": "python",
   "name": "python3"
  },
  "language_info": {
   "codemirror_mode": {
    "name": "ipython",
    "version": 3
   },
   "file_extension": ".py",
   "mimetype": "text/x-python",
   "name": "python",
   "nbconvert_exporter": "python",
   "pygments_lexer": "ipython3",
   "version": "3.7.12"
  }
 },
 "nbformat": 4,
 "nbformat_minor": 5
}
