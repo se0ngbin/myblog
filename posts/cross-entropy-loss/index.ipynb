{
 "cells": [
  {
   "cell_type": "markdown",
   "id": "46c1ae46",
   "metadata": {},
   "source": [
    "---\n",
    "title: \"Cross Entropy Loss Explained\"\n",
    "author: \"Seongbin Park\"\n",
    "jupyter: \"python3\"\n",
    "categories: [ml, notes]\n",
    "format:\n",
    "  html:\n",
    "    toc: true\n",
    "page-layout: article\n",
    "description: A high level overview of PyTorch's torch.nn.CrossEntropyLoss\n",
    "date: \"2022-08-06\"\n",
    "---"
   ]
  },
  {
   "cell_type": "markdown",
   "id": "b90cfc35",
   "metadata": {},
   "source": [
    "Cross entropy loss is a loss function that can be used for multi-class classification using neural networks. [Chapter 5](https://github.com/fastai/fastbook/blob/master/05_pet_breeds.ipynb) of the fast.ai textbook outlines the use of cross entropy loss for binary classification, so in this post, we will take a look at classification for 3 classes."
   ]
  },
  {
   "cell_type": "code",
   "execution_count": null,
   "id": "b6194a23",
   "metadata": {},
   "outputs": [],
   "source": [
    "# |code-fold: true\n",
    "# |code-summary: required libraries\n",
    "\n",
    "from fastai.vision.all import *\n",
    "torch.random.manual_seed(42);"
   ]
  },
  {
   "cell_type": "markdown",
   "id": "0ee24ab0",
   "metadata": {},
   "source": [
    "## Softmax\n",
    "\n",
    "The softmax function ensures 2 things:\n",
    "- activations are all between 0 and 1\n",
    "- activations sum to 1.\n",
    "\n",
    "For multi-class classification, we need an activation per class (in the final layer). Each activation then indicates the relative confidence of each class being the true label. Therefore, we can get the predicted prababilities that each class is the true label by applying the softmax function to the final column of activations.\n",
    "\n",
    "Given $C$ total classes, for any class $k,$ let's say $x_k$ represents the activation for $c$. Then, the softmax activation for an arbitrary class $c$ is equal to\n",
    "\n",
    "$$\\frac{e^{x_c}}{\\sum^C_{k=1}e^{x_k}}.$$\n",
    "\n",
    "In Python code, this would be \n",
    "\n",
    "```Python\n",
    "def softmax(x): return exp(x) / exp(x).sum(dim=1, keepdim=True)\n",
    "```\n",
    "\n",
    "Note that the code version returns a tensor/array of softmax activations.\n",
    "\n",
    "For demonstration purposes, let's first create a set of activations using `torch.randn`, assuming we have 6 objects to classify into 3 classes."
   ]
  },
  {
   "cell_type": "code",
   "execution_count": null,
   "id": "421d7265",
   "metadata": {},
   "outputs": [
    {
     "data": {
      "text/plain": [
       "tensor([[ 3.8538,  2.9746, -0.9948],\n",
       "        [ 0.8792, -1.5163,  2.1566],\n",
       "        [ 1.6016,  3.3612,  0.7117],\n",
       "        [-1.3732,  1.2209,  2.6695],\n",
       "        [-0.4632,  0.0835, -0.5032],\n",
       "        [ 1.7197, -0.6195, -0.7914]])"
      ]
     },
     "execution_count": 3,
     "metadata": {},
     "output_type": "execute_result"
    }
   ],
   "source": [
    "acts = torch.randn((6,3))*2\n",
    "acts"
   ]
  },
  {
   "cell_type": "markdown",
   "id": "cf789ace",
   "metadata": {},
   "source": [
    "Let's also set our target labels:"
   ]
  },
  {
   "cell_type": "code",
   "execution_count": null,
   "id": "37e4ad40",
   "metadata": {},
   "outputs": [],
   "source": [
    "targ = tensor([0,1,0,2,2,0])"
   ]
  },
  {
   "cell_type": "markdown",
   "id": "ec33298b",
   "metadata": {},
   "source": [
    "To take the softmax of our initial (random) activations, we need to pass `acts` into `torch.softmax`:"
   ]
  },
  {
   "cell_type": "code",
   "execution_count": null,
   "id": "05309e72",
   "metadata": {},
   "outputs": [
    {
     "data": {
      "text/plain": [
       "tensor([[0.7028, 0.2917, 0.0055],\n",
       "        [0.2137, 0.0195, 0.7668],\n",
       "        [0.1385, 0.8046, 0.0569],\n",
       "        [0.0140, 0.1876, 0.7984],\n",
       "        [0.2711, 0.4684, 0.2605],\n",
       "        [0.8492, 0.0819, 0.0689]])"
      ]
     },
     "execution_count": 5,
     "metadata": {},
     "output_type": "execute_result"
    }
   ],
   "source": [
    "sm_acts = torch.softmax(acts, dim=1)\n",
    "sm_acts"
   ]
  },
  {
   "cell_type": "markdown",
   "id": "bc5f2ecf",
   "metadata": {},
   "source": [
    "Perfect! We can check that each row adds up to 1 as expected.\n",
    "\n",
    "## Log Likelihood\n",
    "\n",
    "To calculate our loss, for each item of `targ`, we need to select the appropriate column of `sm_acts` using tensor indexing:"
   ]
  },
  {
   "cell_type": "code",
   "execution_count": null,
   "id": "dd60d6ff",
   "metadata": {},
   "outputs": [
    {
     "data": {
      "text/plain": [
       "tensor([0.7028, 0.0195, 0.1385, 0.7984, 0.2605, 0.8492])"
      ]
     },
     "execution_count": 6,
     "metadata": {},
     "output_type": "execute_result"
    }
   ],
   "source": [
    "idx = range(6)\n",
    "sm_acts[idx, targ]"
   ]
  },
  {
   "cell_type": "markdown",
   "id": "b8535108",
   "metadata": {},
   "source": [
    "`F.nll_loss` does the same thing, but flips the sign of each number in the tensor. PyTorch defaults to taking the mean of the losses; to prevent this, we can pass `reduction='none'` as a parameter."
   ]
  },
  {
   "cell_type": "code",
   "execution_count": null,
   "id": "7df2c51f",
   "metadata": {},
   "outputs": [
    {
     "data": {
      "text/plain": [
       "tensor([0.7028, 0.0195, 0.1385, 0.7984, 0.2605, 0.8492])"
      ]
     },
     "execution_count": 7,
     "metadata": {},
     "output_type": "execute_result"
    }
   ],
   "source": [
    "result = -F.nll_loss(sm_acts, targ, reduction='none')\n",
    "result"
   ]
  },
  {
   "cell_type": "markdown",
   "id": "18c4c10b",
   "metadata": {},
   "source": [
    "### Taking the Logarithm\n",
    "\n",
    "We take the (natural) logarithm of `result` for two reasons:\n",
    "- prevents under/overflow when performing mathematical operations\n",
    "- differences between small numbers is amplified\n",
    "\n",
    "In our case, `result` relfects the predicted probability of the correct label, so when the prediction is \"good\" (closer to 1), we want our loss function to return a small value (and vice versa). We can achieve this by taking the negative of the log:"
   ]
  },
  {
   "cell_type": "code",
   "execution_count": null,
   "id": "8b08c8c1",
   "metadata": {},
   "outputs": [
    {
     "data": {
      "text/plain": [
       "tensor([0.3527, 3.9384, 1.9770, 0.2251, 1.3451, 0.1635])"
      ]
     },
     "execution_count": 8,
     "metadata": {},
     "output_type": "execute_result"
    }
   ],
   "source": [
    "loss = -torch.log(result)\n",
    "loss"
   ]
  },
  {
   "cell_type": "markdown",
   "id": "933b36dd",
   "metadata": {},
   "source": [
    "And there we go! We just found the cross entropy loss for our example.\n",
    "\n",
    "# Using Modules\n",
    "\n",
    "We can simplify the code above by using `log_softmax` followed `nll_loss`:"
   ]
  },
  {
   "cell_type": "code",
   "execution_count": null,
   "id": "afafd974",
   "metadata": {
    "scrolled": true
   },
   "outputs": [
    {
     "data": {
      "text/plain": [
       "tensor([0.3527, 3.9384, 1.9770, 0.2251, 1.3451, 0.1635])"
      ]
     },
     "execution_count": 9,
     "metadata": {},
     "output_type": "execute_result"
    }
   ],
   "source": [
    "lsm_acts = F.log_softmax(acts, dim=1)\n",
    "loss = F.nll_loss(lsm_acts, targ, reduction='none')\n",
    "loss"
   ]
  },
  {
   "cell_type": "markdown",
   "id": "3b068086",
   "metadata": {},
   "source": [
    "In practice, this is exactly what `nn.CrossEntropyLoss` does:"
   ]
  },
  {
   "cell_type": "code",
   "execution_count": null,
   "id": "c08addfd",
   "metadata": {},
   "outputs": [
    {
     "data": {
      "text/plain": [
       "tensor([0.3527, 3.9384, 1.9770, 0.2251, 1.3451, 0.1635])"
      ]
     },
     "execution_count": 10,
     "metadata": {},
     "output_type": "execute_result"
    }
   ],
   "source": [
    "nn.CrossEntropyLoss(reduction='none')(acts, targ)"
   ]
  },
  {
   "cell_type": "markdown",
   "id": "0eabb7b5",
   "metadata": {},
   "source": [
    "The output loss tensors for all three approaches are equivalent as expected!"
   ]
  }
 ],
 "metadata": {
  "environment": {
   "kernel": "python3",
   "name": "pytorch-gpu.1-12.m94",
   "type": "gcloud",
   "uri": "gcr.io/deeplearning-platform-release/pytorch-gpu.1-12:m94"
  },
  "kernelspec": {
   "display_name": "Python 3",
   "language": "python",
   "name": "python3"
  },
  "language_info": {
   "codemirror_mode": {
    "name": "ipython",
    "version": 3
   },
   "file_extension": ".py",
   "mimetype": "text/x-python",
   "name": "python",
   "nbconvert_exporter": "python",
   "pygments_lexer": "ipython3",
   "version": "3.7.12"
  }
 },
 "nbformat": 4,
 "nbformat_minor": 5
}
