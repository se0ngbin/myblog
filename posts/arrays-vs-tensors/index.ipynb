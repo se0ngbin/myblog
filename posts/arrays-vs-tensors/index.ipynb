{
 "cells": [
  {
   "cell_type": "markdown",
   "metadata": {},
   "source": [
    "---\n",
    "title: \"Numpy Arrays vs. Pytorch Tensors\"\n",
    "author: \"Seongbin Park\"\n",
    "jupyter: \"python3\"\n",
    "categories: [ml, notes]\n",
    "format:\n",
    "  html:\n",
    "    toc: true\n",
    "page-layout: article\n",
    "image: \"numpy-vs-pytorch.jpeg\"\n",
    "description: Explanation of the difference between Numpy Arrays and Pytorch Tensors\n",
    "date: \"2022-07-30\"\n",
    "---"
   ]
  },
  {
   "cell_type": "markdown",
   "metadata": {
    "id": "G96sUcBgYMue"
   },
   "source": [
    "Both NumPy arrays and PyTorch tensors can be viewed as multidimensional tables of data. By using them, we can speed up computations by many thousands of times compared to using pure Python. This post will clarify the difference between the two.\n",
    "\n",
    "![](arr-vs-ten.png \"Credit: https://python.plainenglish.io/numpy-arrays-vs-tensorflow-tensors-95a9c39e1c17\")\n",
    "\n",
    "I will be using the fastai library for this post; the code will be partially based on chapter 4 of the [fastai book](https://github.com/fastai/fastbook)."
   ]
  },
  {
   "cell_type": "code",
   "execution_count": 3,
   "metadata": {
    "colab": {
     "base_uri": "https://localhost:8080/"
    },
    "id": "T_E6-pYFYMue",
    "outputId": "4c7ac52c-32d4-48ea-9604-e57de48a9016"
   },
   "outputs": [
    {
     "name": "stdout",
     "output_type": "stream",
     "text": [
      "Mounted at /content/gdrive\n"
     ]
    }
   ],
   "source": [
    "# |code-fold: true\n",
    "# |code-summary: required libraries\n",
    "# |output: false\n",
    "\n",
    "! [ -e /content ] && pip install -Uqq fastbook\n",
    "import fastbook\n",
    "fastbook.setup_book()\n",
    "\n",
    "from fastai.vision.all import *\n",
    "from fastbook import *\n",
    "\n",
    "matplotlib.rc('image', cmap='Greys')"
   ]
  },
  {
   "cell_type": "markdown",
   "metadata": {
    "id": "Hv9XxT5VYMuf"
   },
   "source": [
    "# Basics\n",
    "\n",
    "## NumPy Arrays\n",
    "All items in a NumPy array must be of the same type. Arrays are mutable, which means that we can change the values of each item in the array.\n",
    "\n",
    "The innermost arrays of multidimensional arrays can have varying sizes—this is called a \"jagged array.\" \n",
    "\n",
    "Most functions supported by NumPy arrays are supported by PyTorch tensors.\n",
    "\n",
    "## Pytorch Tensor\n",
    "All items in a PyTorch tensor must also be of the same type, but it has the additional restriction that the type has to be a single basic numeric type. Also, PyTorch tensors are immutable, which means that we cannot change the values of each item in the array.\n",
    "\n",
    "Unlike arrays, PyTorch tensors cannot be jagged. Also, they can live on the GPU, which is optimized for parallel computations. Therefore, given a large amount of data, it is much faster to use a GPU than a CPU. Additionally, PyTorch can automatically calculate derivatives.\n",
    "\n",
    "\n",
    "# Creating Arrays and Tensors\n",
    "Creating NumPy arrays and PyTorch tensors is very similar:"
   ]
  },
  {
   "cell_type": "code",
   "execution_count": 4,
   "metadata": {
    "id": "iPGgh2FhYMug"
   },
   "outputs": [],
   "source": [
    "data = [[1,2,3],[4,5,6]]\n",
    "arr = array (data)\n",
    "tns = tensor(data)"
   ]
  },
  {
   "cell_type": "code",
   "execution_count": 5,
   "metadata": {
    "colab": {
     "base_uri": "https://localhost:8080/"
    },
    "id": "VPYFqOj-YMug",
    "outputId": "ad94e954-348e-4972-fd0c-fb02b7085f8c"
   },
   "outputs": [
    {
     "data": {
      "text/plain": [
       "array([[1, 2, 3],\n",
       "       [4, 5, 6]])"
      ]
     },
     "execution_count": 5,
     "metadata": {},
     "output_type": "execute_result"
    }
   ],
   "source": [
    "arr"
   ]
  },
  {
   "cell_type": "code",
   "execution_count": 6,
   "metadata": {
    "colab": {
     "base_uri": "https://localhost:8080/"
    },
    "id": "6OR-5diCYMuh",
    "outputId": "f45df576-31a1-4f1c-bbd7-b0dc907abb1b"
   },
   "outputs": [
    {
     "data": {
      "text/plain": [
       "tensor([[1, 2, 3],\n",
       "        [4, 5, 6]])"
      ]
     },
     "execution_count": 6,
     "metadata": {},
     "output_type": "execute_result"
    }
   ],
   "source": [
    "tns"
   ]
  },
  {
   "cell_type": "markdown",
   "metadata": {
    "id": "GjEe8wtpYMuh"
   },
   "source": [
    "# Performing Operations\n",
    "Operations on arrays and tensors mostly use the same syntax. For example,"
   ]
  },
  {
   "cell_type": "code",
   "execution_count": 7,
   "metadata": {
    "colab": {
     "base_uri": "https://localhost:8080/"
    },
    "id": "xoJjX8uIYMuh",
    "outputId": "5263e068-ab2f-41a8-d4b5-e0584658b5a8"
   },
   "outputs": [
    {
     "data": {
      "text/plain": [
       "tensor([[2, 3, 4],\n",
       "        [5, 6, 7]])"
      ]
     },
     "execution_count": 7,
     "metadata": {},
     "output_type": "execute_result"
    }
   ],
   "source": [
    "tns+1"
   ]
  },
  {
   "cell_type": "code",
   "execution_count": 8,
   "metadata": {
    "colab": {
     "base_uri": "https://localhost:8080/"
    },
    "id": "pzZ4FJchYMuh",
    "outputId": "a5cba05d-be80-4b36-aeee-138242c07ded"
   },
   "outputs": [
    {
     "data": {
      "text/plain": [
       "array([[2, 3, 4],\n",
       "       [5, 6, 7]])"
      ]
     },
     "execution_count": 8,
     "metadata": {},
     "output_type": "execute_result"
    }
   ],
   "source": [
    "arr+1"
   ]
  },
  {
   "cell_type": "markdown",
   "metadata": {
    "id": "f-Sj1eoLYMuh"
   },
   "source": [
    "Refer to the [PyTorch documentation](https://pytorch.org/docs/stable/tensors.html) for more operations. Happy learning!"
   ]
  },
  {
   "cell_type": "code",
   "execution_count": null,
   "metadata": {
    "id": "E0BAoUw0ZG_j"
   },
   "outputs": [],
   "source": []
  }
 ],
 "metadata": {
  "colab": {
   "name": "2022-07-30-ArraysvsTensors.ipynb",
   "provenance": []
  },
  "environment": {
   "kernel": "python3",
   "name": "pytorch-gpu.1-12.m94",
   "type": "gcloud",
   "uri": "gcr.io/deeplearning-platform-release/pytorch-gpu.1-12:m94"
  },
  "kernelspec": {
   "display_name": "Python 3",
   "language": "python",
   "name": "python3"
  },
  "language_info": {
   "codemirror_mode": {
    "name": "ipython",
    "version": 3
   },
   "file_extension": ".py",
   "mimetype": "text/x-python",
   "name": "python",
   "nbconvert_exporter": "python",
   "pygments_lexer": "ipython3",
   "version": "3.7.12"
  },
  "vscode": {
   "interpreter": {
    "hash": "b0fa6594d8f4cbf19f97940f81e996739fb7646882a419484c72d19e05852a7e"
   }
  }
 },
 "nbformat": 4,
 "nbformat_minor": 1
}
